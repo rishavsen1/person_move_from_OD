{
 "cells": [
  {
   "cell_type": "code",
   "execution_count": null,
   "metadata": {},
   "outputs": [],
   "source": [
    "import geopandas as gpd\n",
    "import pandas as pd"
   ]
  },
  {
   "cell_type": "code",
   "execution_count": null,
   "metadata": {},
   "outputs": [],
   "source": [
    "taz = gpd.read_file('./tazshapefile_909_TAZ/taz909.shp')\n",
    "# taz = taz.to_crs('epsg:4326')"
   ]
  },
  {
   "cell_type": "code",
   "execution_count": null,
   "metadata": {},
   "outputs": [],
   "source": [
    "from shapely.geometry import Point\n",
    "\n",
    "df2 = gpd.read_file('./transit_demand.csv', crs=\"EPSG:4326\" ).drop('geometry', axis=1)\n",
    "df2['from_lat'] = df2.from_location.apply(lambda x: float(x.split(',')[0].split('(')[1]))\n",
    "df2['from_lon'] = df2.from_location.apply(lambda x: float(x.split(',')[1].split(')')[0]))\n",
    "df2['to_lat'] = df2.to_location.apply(lambda x: float(x.split(',')[0].split('(')[1]))\n",
    "df2['to_lon'] = df2.to_location.apply(lambda x: float(x.split(',')[1].split(')')[0]))\n",
    "from_geometry = [Point(xy) for xy in zip(df2['from_lat'], df2['from_lon'])]\n",
    "to_geometry = [Point(xy) for xy in zip(df2['to_lat'], df2['to_lon'])]"
   ]
  },
  {
   "cell_type": "code",
   "execution_count": null,
   "metadata": {},
   "outputs": [],
   "source": [
    "df2 = df2.reset_index()"
   ]
  },
  {
   "cell_type": "code",
   "execution_count": null,
   "metadata": {},
   "outputs": [],
   "source": [
    "df2_from = gpd.GeoDataFrame(df2, crs=\"EPSG:4019\", geometry=from_geometry).drop('to_location', axis=1)\n",
    "df2_to = gpd.GeoDataFrame(df2, crs=\"EPSG:4019\", geometry=to_geometry).drop('from_location', axis=1)"
   ]
  },
  {
   "cell_type": "code",
   "execution_count": null,
   "metadata": {},
   "outputs": [],
   "source": [
    "df2_from = gpd.sjoin(df2_from, taz[['ID', 'geometry']], how='inner').rename(columns={'ID':'from_TAZ', 'geometry':'from_geom'})\n",
    "df2_to = gpd.sjoin(df2_to, taz[['ID', 'geometry']], how='inner').rename(columns={'ID':'to_TAZ', 'geometry':'to_geom'})"
   ]
  },
  {
   "cell_type": "code",
   "execution_count": null,
   "metadata": {},
   "outputs": [],
   "source": [
    "df2_final = df2_from.merge(df2_to[['index', 'person_id', 'to_location', 'to_TAZ', 'to_geom']], on=['index', 'person_id'], how='left')"
   ]
  },
  {
   "cell_type": "code",
   "execution_count": null,
   "metadata": {},
   "outputs": [],
   "source": [
    "# df2_final.dropna()"
   ]
  },
  {
   "cell_type": "code",
   "execution_count": null,
   "metadata": {},
   "outputs": [],
   "source": [
    "df2_final.drop(['index_right', 'from_lat', 'from_lon', 'to_lat', 'to_lon'], axis=1)[['person_id', 'from_geom', 'to_geom', 'from_TAZ', 'to_TAZ', 'mode', 'depart', 'sequence_idx']].to_csv('person_movement_TAZ.csv', index=False)"
   ]
  }
 ],
 "metadata": {
  "kernelspec": {
   "display_name": "Python 3.7.9 64-bit",
   "language": "python",
   "name": "python3"
  },
  "language_info": {
   "name": "python",
   "version": "3.7.9"
  },
  "orig_nbformat": 4,
  "vscode": {
   "interpreter": {
    "hash": "c4d0005f5e14f7c00ac58c488a6489dbdddabe86817daaefe3a462e64eae13df"
   }
  }
 },
 "nbformat": 4,
 "nbformat_minor": 2
}
